{
 "cells": [
  {
   "cell_type": "code",
   "execution_count": 1,
   "metadata": {},
   "outputs": [],
   "source": [
    "import pandas as pd"
   ]
  },
  {
   "cell_type": "code",
   "execution_count": null,
   "metadata": {},
   "outputs": [],
   "source": [
    "\"\"\"\n",
    "用于构造cui-label数据集，对原始数据集进行采样，构造出一个小一些的图\n",
    "\"\"\"\n",
    "\n",
    "umls_sty = pd.read_csv(\"G:\\\\CEGNN\\\\materials\\\\umls\\\\umls_sty.csv\",\n",
    "                       names=[\"cui\", \"sty\"], delimiter=\"|\", index_col=[\"cui\"], encoding=\"utf-8\")"
   ]
  },
  {
   "cell_type": "code",
   "execution_count": 19,
   "metadata": {},
   "outputs": [],
   "source": [
    "umls_sty_group = umls_sty.groupby(\"sty\") "
   ]
  },
  {
   "cell_type": "code",
   "execution_count": 20,
   "metadata": {},
   "outputs": [
    {
     "data": {
      "text/html": [
       "<div>\n",
       "<style scoped>\n",
       "    .dataframe tbody tr th:only-of-type {\n",
       "        vertical-align: middle;\n",
       "    }\n",
       "\n",
       "    .dataframe tbody tr th {\n",
       "        vertical-align: top;\n",
       "    }\n",
       "\n",
       "    .dataframe thead th {\n",
       "        text-align: right;\n",
       "    }\n",
       "</style>\n",
       "<table border=\"1\" class=\"dataframe\">\n",
       "  <thead>\n",
       "    <tr style=\"text-align: right;\">\n",
       "      <th></th>\n",
       "      <th>sty</th>\n",
       "    </tr>\n",
       "    <tr>\n",
       "      <th>cui</th>\n",
       "      <th></th>\n",
       "    </tr>\n",
       "  </thead>\n",
       "  <tbody>\n",
       "    <tr>\n",
       "      <td>C0678220</td>\n",
       "      <td>Clinical Attribute</td>\n",
       "    </tr>\n",
       "    <tr>\n",
       "      <td>C0424678</td>\n",
       "      <td>Clinical Attribute</td>\n",
       "    </tr>\n",
       "    <tr>\n",
       "      <td>C0178519</td>\n",
       "      <td>Clinical Attribute</td>\n",
       "    </tr>\n",
       "    <tr>\n",
       "      <td>C0699860</td>\n",
       "      <td>Clinical Attribute</td>\n",
       "    </tr>\n",
       "    <tr>\n",
       "      <td>C0700043</td>\n",
       "      <td>Clinical Attribute</td>\n",
       "    </tr>\n",
       "    <tr>\n",
       "      <td>...</td>\n",
       "      <td>...</td>\n",
       "    </tr>\n",
       "    <tr>\n",
       "      <td>C1981256</td>\n",
       "      <td>Biologically Active Substance</td>\n",
       "    </tr>\n",
       "    <tr>\n",
       "      <td>C1976958</td>\n",
       "      <td>Clinical Attribute</td>\n",
       "    </tr>\n",
       "    <tr>\n",
       "      <td>C1979173</td>\n",
       "      <td>Clinical Attribute</td>\n",
       "    </tr>\n",
       "    <tr>\n",
       "      <td>C1963847</td>\n",
       "      <td>Disease or Syndrome</td>\n",
       "    </tr>\n",
       "    <tr>\n",
       "      <td>C1980800</td>\n",
       "      <td>Enzyme</td>\n",
       "    </tr>\n",
       "  </tbody>\n",
       "</table>\n",
       "<p>3724194 rows × 1 columns</p>\n",
       "</div>"
      ],
      "text/plain": [
       "                                    sty\n",
       "cui                                    \n",
       "C0678220             Clinical Attribute\n",
       "C0424678             Clinical Attribute\n",
       "C0178519             Clinical Attribute\n",
       "C0699860             Clinical Attribute\n",
       "C0700043             Clinical Attribute\n",
       "...                                 ...\n",
       "C1981256  Biologically Active Substance\n",
       "C1976958             Clinical Attribute\n",
       "C1979173             Clinical Attribute\n",
       "C1963847            Disease or Syndrome\n",
       "C1980800                         Enzyme\n",
       "\n",
       "[3724194 rows x 1 columns]"
      ]
     },
     "execution_count": 20,
     "metadata": {},
     "output_type": "execute_result"
    }
   ],
   "source": [
    "umls_sty"
   ]
  },
  {
   "cell_type": "code",
   "execution_count": 21,
   "metadata": {},
   "outputs": [
    {
     "data": {
      "text/plain": [
       "{'Amino Acid, Peptide, or Protein': Index(['C0008546', 'C0010288', 'C0010744', 'C0010749', 'C0015680', 'C0022920',\n",
       "        'C1176473', 'C0072630', 'C0600708', 'C0051066',\n",
       "        ...\n",
       "        'C2003586', 'C1988971', 'C1990513', 'C1990554', 'C1980964', 'C2000717',\n",
       "        'C2002804', 'C1991135', 'C2003743', 'C2002278'],\n",
       "       dtype='object', name='cui', length=143110),\n",
       " 'Bacterium': Index(['C0017633', 'C0031768', 'C0085443', 'C0085452', 'C0085453', 'C0677514',\n",
       "        'C0682464', 'C0682465', 'C0682466', 'C0682468',\n",
       "        ...\n",
       "        'C1985695', 'C1973271', 'C1973897', 'C1988339', 'C1991251', 'C1993249',\n",
       "        'C1996964', 'C1982070', 'C1982066', 'C1988870'],\n",
       "       dtype='object', name='cui', length=383775),\n",
       " 'Biologically Active Substance': Index(['C1176473', 'C0049776', 'C0055080', 'C0062438', 'C0069883', 'C0601237',\n",
       "        'C0075228', 'C0069485', 'C0072172', 'C0076747',\n",
       "        ...\n",
       "        'C2000992', 'C2001865', 'C2003491', 'C2003536', 'C1988534', 'C2001761',\n",
       "        'C1973985', 'C2003361', 'C2003801', 'C1981256'],\n",
       "       dtype='object', name='cui', length=72093),\n",
       " 'Bird': Index(['C0326299', 'C0325913', 'C0175862', 'C0175863', 'C1828092', 'C0871312',\n",
       "        'C0326586', 'C0325331', 'C0446377', 'C0999148',\n",
       "        ...\n",
       "        'C1903222', 'C1903223', 'C1903233', 'C1904351', 'C1904352', 'C1905251',\n",
       "        'C1911544', 'C1948000', 'C1948007', 'C1504059'],\n",
       "       dtype='object', name='cui', length=25825),\n",
       " 'Body Location or Region': Index(['C0221914', 'C0221915', 'C0221916', 'C0221930', 'C0221935', 'C0221942',\n",
       "        'C0221993', 'C0222000', 'C0222071', 'C0222596',\n",
       "        ...\n",
       "        'C1883075', 'C1959679', 'C1959674', 'C1959676', 'C1442277', 'C1442400',\n",
       "        'C1442401', 'C1963703', 'C1995000', 'C0460009'],\n",
       "       dtype='object', name='cui', length=26080),\n",
       " 'Body Part, Organ, or Organ Component': Index(['C0221911', 'C0221919', 'C0221927', 'C0221932', 'C0221933', 'C0221934',\n",
       "        'C0221936', 'C0221938', 'C0221939', 'C0221940',\n",
       "        ...\n",
       "        'C1995016', 'C1997974', 'C1972718', 'C1976575', 'C1976576', 'C1997042',\n",
       "        'C0022742', 'C1996920', 'C1991713', 'C0014540'],\n",
       "       dtype='object', name='cui', length=90214),\n",
       " 'Cell Function': Index(['C0678672', 'C0678716', 'C0678721', 'C0678722', 'C0678725', 'C0678833',\n",
       "        'C0678834', 'C0678836', 'C0678837', 'C0678838',\n",
       "        ...\n",
       "        'C1749558', 'C1856672', 'C1849169', 'C1536403', 'C1955895', 'C1961142',\n",
       "        'C1979804', 'C1973596', 'C1972356', 'C1993217'],\n",
       "       dtype='object', name='cui', length=19748),\n",
       " 'Clinical Attribute': Index(['C0678220', 'C0424678', 'C0178519', 'C0699860', 'C0700043', 'C0728839',\n",
       "        'C0439377', 'C0442709', 'C0449840', 'C0449841',\n",
       "        ...\n",
       "        'C1979481', 'C1978630', 'C1977687', 'C1978286', 'C1979172', 'C1978685',\n",
       "        'C1979430', 'C1977186', 'C1976958', 'C1979173'],\n",
       "       dtype='object', name='cui', length=90640),\n",
       " 'Clinical Drug': Index(['C0059078', 'C0602894', 'C0603637', 'C0065143', 'C0206948', 'C0351819',\n",
       "        'C0073384', 'C0281425', 'C0281426', 'C0612923',\n",
       "        ...\n",
       "        'C1966696', 'C1967163', 'C1967286', 'C1967631', 'C1967658', 'C1967729',\n",
       "        'C1967903', 'C1968163', 'C1967290', 'C1965297'],\n",
       "       dtype='object', name='cui', length=234982),\n",
       " 'Congenital Abnormality': Index(['C1176459', 'C0265195', 'C0541413', 'C0265244', 'C0541420', 'C0541421',\n",
       "        'C0541422', 'C0229547', 'C0393791', 'C0393990',\n",
       "        ...\n",
       "        'C1996981', 'C1971816', 'C1997202', 'C2004426', 'C1997453', 'C1997381',\n",
       "        'C1997429', 'C0266617', 'C1997299', 'C1290511'],\n",
       "       dtype='object', name='cui', length=10371),\n",
       " 'Diagnostic Procedure': Index(['C0197944', 'C0197946', 'C0197948', 'C0197963', 'C0197965', 'C0198024',\n",
       "        'C0198059', 'C0198123', 'C0198131', 'C0198282',\n",
       "        ...\n",
       "        'C1998073', 'C1998271', 'C0581107', 'C0562271', 'C0037804', 'C0430551',\n",
       "        'C1964165', 'C1994941', 'C1994944', 'C1997441'],\n",
       "       dtype='object', name='cui', length=50163),\n",
       " 'Disease or Syndrome': Index(['C0024748', 'C0851341', 'C0031269', 'C0037272', 'C0541398', 'C0541399',\n",
       "        'C0520572', 'C0541400', 'C0541401', 'C0342804',\n",
       "        ...\n",
       "        'C1963730', 'C1997115', 'C1968556', 'C1997585', 'C1997589', 'C0155700',\n",
       "        'C1969060', 'C1970195', 'C1971664', 'C1963847'],\n",
       "       dtype='object', name='cui', length=106842),\n",
       " 'Enzyme': Index(['C0010288', 'C0010744', 'C0015680', 'C0022920', 'C0600708', 'C0051898',\n",
       "        'C0057667', 'C0064963', 'C0601214', 'C0066489',\n",
       "        ...\n",
       "        'C2003649', 'C1988546', 'C1975240', 'C1980797', 'C1999844', 'C2000845',\n",
       "        'C1971953', 'C2001189', 'C2000153', 'C1980800'],\n",
       "       dtype='object', name='cui', length=30606),\n",
       " 'Eukaryote': Index(['C0000879', 'C0000881', 'C0000890', 'C0000892', 'C0001692', 'C0002028',\n",
       "        'C0002031', 'C0002642', 'C0002824', 'C0002826',\n",
       "        ...\n",
       "        'C4534115', 'C4534258', 'C4534251', 'C4534252', 'C4534253', 'C4533794',\n",
       "        'C4533793', 'C4534224', 'C4534056', 'C4544062'],\n",
       "       dtype='object', name='cui', length=490451),\n",
       " 'Finding': Index(['C0337629', 'C0337632', 'C0337677', 'C0337679', 'C0337682', 'C0337782',\n",
       "        'C0033825', 'C0278936', 'C0278937', 'C0278938',\n",
       "        ...\n",
       "        'C1970282', 'C1970549', 'C1970564', 'C1970586', 'C1970602', 'C1970773',\n",
       "        'C1970888', 'C1971793', 'C1997949', 'C1973538'],\n",
       "       dtype='object', name='cui', length=302412),\n",
       " 'Fish': Index(['C0010596', 'C1691760', 'C0446376', 'C0178873', 'C0259884', 'C0037613',\n",
       "        'C0946707', 'C0328457', 'C0998755', 'C0998756',\n",
       "        ...\n",
       "        'C1973394', 'C1993770', 'C1992053', 'C1988681', 'C1994394', 'C1994768',\n",
       "        'C1973001', 'C1972510', 'C1973090', 'C1987032'],\n",
       "       dtype='object', name='cui', length=35380),\n",
       " 'Fungus': Index(['C0032276', 'C0678165', 'C0682474', 'C0686866', 'C0686867', 'C0445351',\n",
       "        'C0446002', 'C0446003', 'C0446004', 'C0446005',\n",
       "        ...\n",
       "        'C1975774', 'C1975769', 'C1975768', 'C1998455', 'C1988171', 'C1985620',\n",
       "        'C1971843', 'C1975770', 'C1975765', 'C1975761'],\n",
       "       dtype='object', name='cui', length=136625),\n",
       " 'Gene or Genome': Index(['C0678928', 'C0678929', 'C0678933', 'C0678941', 'C0682970', 'C0683222',\n",
       "        'C0683223', 'C0694897', 'C0702257', 'C0702258',\n",
       "        ...\n",
       "        'C1968827', 'C1970015', 'C1970246', 'C1415281', 'C1969662', 'C1333210',\n",
       "        'C1823478', 'C1414521', 'C1970031', 'C1970174'],\n",
       "       dtype='object', name='cui', length=75062),\n",
       " 'Health Care Activity': Index(['C0199168', 'C0199169', 'C0199170', 'C0199171', 'C0199172', 'C0199173',\n",
       "        'C0199174', 'C0199182', 'C0199183', 'C0033080',\n",
       "        ...\n",
       "        'C1964240', 'C1965703', 'C1965779', 'C1999199', 'C1964140', 'C1998118',\n",
       "        'C1963556', 'C0848298', 'C1971330', 'C1964099'],\n",
       "       dtype='object', name='cui', length=27036),\n",
       " 'Immunologic Factor': Index(['C0206845', 'C0052097', 'C0057490', 'C0069673', 'C0604085', 'C0605001',\n",
       "        'C0605015', 'C0061773', 'C0065255', 'C0052685',\n",
       "        ...\n",
       "        'C2000342', 'C2000532', 'C1978663', 'C1987126', 'C1987930', 'C1982653',\n",
       "        'C1990512', 'C1974242', 'C1983751', 'C1975041'],\n",
       "       dtype='object', name='cui', length=28035),\n",
       " 'Indicator, Reagent, or Diagnostic Aid': Index(['C0066548', 'C0601117', 'C0069596', 'C0601430', 'C0601449', 'C0075331',\n",
       "        'C0057253', 'C0050505', 'C0064137', 'C0060120',\n",
       "        ...\n",
       "        'C1967425', 'C1986753', 'C1995674', 'C1980108', 'C1967422', 'C1971372',\n",
       "        'C1990314', 'C1986240', 'C1995689', 'C1967427'],\n",
       "       dtype='object', name='cui', length=16900),\n",
       " 'Injury or Poisoning': Index(['C0876994', 'C0280953', 'C0281342', 'C0393385', 'C0393387', 'C0393394',\n",
       "        'C0393398', 'C0338377', 'C0338378', 'C0393536',\n",
       "        ...\n",
       "        'C1997434', 'C1997045', 'C1997260', 'C1963846', 'C2004340', 'C1997692',\n",
       "        'C1963851', 'C1997496', 'C1997439', 'C1998329'],\n",
       "       dtype='object', name='cui', length=111182),\n",
       " 'Intellectual Product': Index(['C0220965', 'C0391807', 'C0338370', 'C0541458', 'C0150098', 'C0013113',\n",
       "        'C0677510', 'C0677523', 'C0677540', 'C0677556',\n",
       "        ...\n",
       "        'C1998454', 'C1954084', 'C1986362', 'C1978499', 'C0554887', 'C1986367',\n",
       "        'C1978745', 'C1978747', 'C1977580', 'C1990850'],\n",
       "       dtype='object', name='cui', length=32978),\n",
       " 'Laboratory Procedure': Index(['C0199501', 'C0199524', 'C0278344', 'C0278345', 'C0199919', 'C0200337',\n",
       "        'C0200339', 'C0200340', 'C0200341', 'C0200342',\n",
       "        ...\n",
       "        'C1977574', 'C1978036', 'C1980052', 'C1987182', 'C1972670', 'C0020980',\n",
       "        'C0373746', 'C1992625', 'C0587341', 'C1992684'],\n",
       "       dtype='object', name='cui', length=33433),\n",
       " 'Mammal': Index(['C0230956', 'C0325035', 'C0682503', 'C0682510', 'C0682511', 'C0325305',\n",
       "        'C0682513', 'C0684069', 'C0684070', 'C0684071',\n",
       "        ...\n",
       "        'C1956050', 'C1960600', 'C1960598', 'C1997573', 'C1997328', 'C1996985',\n",
       "        'C1991263', 'C1984874', 'C1996930', 'C1996940'],\n",
       "       dtype='object', name='cui', length=13718),\n",
       " 'Medical Device': Index(['C0878904', 'C0064121', 'C0149658', 'C0677048', 'C0184408', 'C0179037',\n",
       "        'C0677438', 'C0677439', 'C0677441', 'C0677442',\n",
       "        ...\n",
       "        'C1995389', 'C0460776', 'C1360774', 'C1572616', 'C1995557', 'C1995415',\n",
       "        'C1964749', 'C1964900', 'C1966453', 'C1971536'],\n",
       "       dtype='object', name='cui', length=72243),\n",
       " 'Molecular Function': Index(['C0678659', 'C0678697', 'C0678702', 'C0678703', 'C0678704', 'C0678705',\n",
       "        'C0678706', 'C0678707', 'C0678708', 'C0678709',\n",
       "        ...\n",
       "        'C0301626', 'C0014439', 'C0025513', 'C0028605', 'C0022013', 'C0441687',\n",
       "        'C0441690', 'C0312755', 'C1276857', 'C1963932'],\n",
       "       dtype='object', name='cui', length=31774),\n",
       " 'Neoplastic Process': Index(['C0496920', 'C0220597', 'C0278470', 'C0278471', 'C0278472', 'C0278473',\n",
       "        'C1510422', 'C1510423', 'C0278485', 'C0278486',\n",
       "        ...\n",
       "        'C1963856', 'C1997765', 'C1996911', 'C1970250', 'C2004151', 'C1997530',\n",
       "        'C1963679', 'C1997634', 'C1997254', 'C2004135'],\n",
       "       dtype='object', name='cui', length=39724),\n",
       " 'Nucleic Acid, Nucleoside, or Nucleotide': Index(['C0600694', 'C0600704', 'C0600733', 'C0049114', 'C0049099', 'C0047331',\n",
       "        'C0050225', 'C0601042', 'C0601044', 'C0052241',\n",
       "        ...\n",
       "        'C1988317', 'C2000809', 'C1999692', 'C2002681', 'C1980810', 'C1972161',\n",
       "        'C2000334', 'C2000555', 'C2003540', 'C1999372'],\n",
       "       dtype='object', name='cui', length=11927),\n",
       " 'Organic Chemical': Index(['C0005063', 'C0009235', 'C0541744', 'C0541745', 'C0003663', 'C0031435',\n",
       "        'C0600334', 'C0003234', 'C0003240', 'C0037239',\n",
       "        ...\n",
       "        'C1974333', 'C1994589', 'C1987726', 'C1990946', 'C1966199', 'C1980206',\n",
       "        'C2001320', 'C1968050', 'C1992113', 'C1992009'],\n",
       "       dtype='object', name='cui', length=238710),\n",
       " 'Pathologic Function': Index(['C0280233', 'C0281169', 'C0393137', 'C0393401', 'C0338376', 'C0338379',\n",
       "        'C0393402', 'C0393403', 'C0393404', 'C0393405',\n",
       "        ...\n",
       "        'C1996973', 'C1997810', 'C1997708', 'C1997179', 'C1998400', 'C2004415',\n",
       "        'C1997618', 'C1998010', 'C1997219', 'C1963940'],\n",
       "       dtype='object', name='cui', length=26095),\n",
       " 'Pharmacologic Substance': Index(['C0003212', 'C0005063', 'C0006524', 'C0037487', 'C0541744', 'C0012799',\n",
       "        'C0017711', 'C0017712', 'C0019935', 'C0003663',\n",
       "        ...\n",
       "        'C2001210', 'C1966603', 'C1966700', 'C2001654', 'C1984725', 'C1987971',\n",
       "        'C2002832', 'C1964064', 'C1990336', 'C1987474'],\n",
       "       dtype='object', name='cui', length=165050),\n",
       " 'Plant': Index(['C0019240', 'C0936082', 'C0282635', 'C0541488', 'C1145672', 'C0678440',\n",
       "        'C0678450', 'C0678453', 'C0678454', 'C0678455',\n",
       "        ...\n",
       "        'C1992850', 'C1991524', 'C1992872', 'C1993771', 'C1994293', 'C1988647',\n",
       "        'C1984858', 'C1984871', 'C1991040', 'C1974054'],\n",
       "       dtype='object', name='cui', length=187030),\n",
       " 'Quantitative Concept': Index(['C0229969', 'C0229970', 'C0229971', 'C0229972', 'C0229973', 'C0229974',\n",
       "        'C0229975', 'C0229976', 'C0229977', 'C0278956',\n",
       "        ...\n",
       "        'C1972635', 'C1989525', 'C1976869', 'C1998480', 'C1991463', 'C1978009',\n",
       "        'C1979711', 'C1971830', 'C1975903', 'C1976974'],\n",
       "       dtype='object', name='cui', length=10855),\n",
       " 'Sign or Symptom': Index(['C0221100', 'C0279456', 'C0393754', 'C0393757', 'C0393764', 'C0393765',\n",
       "        'C0393766', 'C0393767', 'C0393903', 'C0393916',\n",
       "        ...\n",
       "        'C1997332', 'C1963889', 'C1963739', 'C1997818', 'C1971668', 'C1963939',\n",
       "        'C1963789', 'C1963859', 'C1963936', 'C1971698'],\n",
       "       dtype='object', name='cui', length=13888),\n",
       " 'Substance': Index(['C0077420', 'C0605607', 'C0070478', 'C0068453', 'C0607005', 'C0609577',\n",
       "        'C0609578', 'C0610171', 'C0610289', 'C0612151',\n",
       "        ...\n",
       "        'C1979564', 'C1979528', 'C1986470', 'C1979539', 'C1979517', 'C1979562',\n",
       "        'C1979547', 'C1979514', 'C1979519', 'C1979548'],\n",
       "       dtype='object', name='cui', length=10960),\n",
       " 'Therapeutic or Preventive Procedure': Index(['C0197798', 'C0197799', 'C0197800', 'C0197801', 'C0197803', 'C0197804',\n",
       "        'C0395551', 'C0197807', 'C0197808', 'C0197809',\n",
       "        ...\n",
       "        'C1995002', 'C1996934', 'C1997476', 'C1997560', 'C2004204', 'C1996856',\n",
       "        'C2004089', 'C1964236', 'C1997326', 'C1964029'],\n",
       "       dtype='object', name='cui', length=304798),\n",
       " 'Virus': Index(['C0013480', 'C0014666', 'C0319132', 'C0080155', 'C0206413', 'C0206422',\n",
       "        'C0206426', 'C0936089', 'C0206532', 'C0376498',\n",
       "        ...\n",
       "        'C1994710', 'C1988066', 'C1975394', 'C1988064', 'C1981928', 'C1972964',\n",
       "        'C1990595', 'C1992156', 'C1986374', 'C1990596'],\n",
       "       dtype='object', name='cui', length=23479)}"
      ]
     },
     "execution_count": 21,
     "metadata": {},
     "output_type": "execute_result"
    }
   ],
   "source": [
    "umls_sty_group.groups"
   ]
  },
  {
   "cell_type": "code",
   "execution_count": 22,
   "metadata": {},
   "outputs": [],
   "source": [
    "def typicalsamling(group):\n",
    "    #name = group.name\n",
    "    #n = typicalNDict[name]\n",
    "    return group.sample(3000)"
   ]
  },
  {
   "cell_type": "code",
   "execution_count": 23,
   "metadata": {},
   "outputs": [],
   "source": [
    "result = umls_sty.groupby('sty',group_keys=False).apply(typicalsamling)"
   ]
  },
  {
   "cell_type": "code",
   "execution_count": 24,
   "metadata": {},
   "outputs": [
    {
     "data": {
      "text/html": [
       "<div>\n",
       "<style scoped>\n",
       "    .dataframe tbody tr th:only-of-type {\n",
       "        vertical-align: middle;\n",
       "    }\n",
       "\n",
       "    .dataframe tbody tr th {\n",
       "        vertical-align: top;\n",
       "    }\n",
       "\n",
       "    .dataframe thead th {\n",
       "        text-align: right;\n",
       "    }\n",
       "</style>\n",
       "<table border=\"1\" class=\"dataframe\">\n",
       "  <thead>\n",
       "    <tr style=\"text-align: right;\">\n",
       "      <th></th>\n",
       "      <th>sty</th>\n",
       "    </tr>\n",
       "    <tr>\n",
       "      <th>cui</th>\n",
       "      <th></th>\n",
       "    </tr>\n",
       "  </thead>\n",
       "  <tbody>\n",
       "    <tr>\n",
       "      <td>C4308464</td>\n",
       "      <td>Amino Acid, Peptide, or Protein</td>\n",
       "    </tr>\n",
       "    <tr>\n",
       "      <td>C0909860</td>\n",
       "      <td>Amino Acid, Peptide, or Protein</td>\n",
       "    </tr>\n",
       "    <tr>\n",
       "      <td>C1701243</td>\n",
       "      <td>Amino Acid, Peptide, or Protein</td>\n",
       "    </tr>\n",
       "    <tr>\n",
       "      <td>C1174899</td>\n",
       "      <td>Amino Acid, Peptide, or Protein</td>\n",
       "    </tr>\n",
       "    <tr>\n",
       "      <td>C0905670</td>\n",
       "      <td>Amino Acid, Peptide, or Protein</td>\n",
       "    </tr>\n",
       "    <tr>\n",
       "      <td>...</td>\n",
       "      <td>...</td>\n",
       "    </tr>\n",
       "    <tr>\n",
       "      <td>C4001227</td>\n",
       "      <td>Virus</td>\n",
       "    </tr>\n",
       "    <tr>\n",
       "      <td>C3765715</td>\n",
       "      <td>Virus</td>\n",
       "    </tr>\n",
       "    <tr>\n",
       "      <td>C2672085</td>\n",
       "      <td>Virus</td>\n",
       "    </tr>\n",
       "    <tr>\n",
       "      <td>C4167198</td>\n",
       "      <td>Virus</td>\n",
       "    </tr>\n",
       "    <tr>\n",
       "      <td>C4345060</td>\n",
       "      <td>Virus</td>\n",
       "    </tr>\n",
       "  </tbody>\n",
       "</table>\n",
       "<p>114000 rows × 1 columns</p>\n",
       "</div>"
      ],
      "text/plain": [
       "                                      sty\n",
       "cui                                      \n",
       "C4308464  Amino Acid, Peptide, or Protein\n",
       "C0909860  Amino Acid, Peptide, or Protein\n",
       "C1701243  Amino Acid, Peptide, or Protein\n",
       "C1174899  Amino Acid, Peptide, or Protein\n",
       "C0905670  Amino Acid, Peptide, or Protein\n",
       "...                                   ...\n",
       "C4001227                            Virus\n",
       "C3765715                            Virus\n",
       "C2672085                            Virus\n",
       "C4167198                            Virus\n",
       "C4345060                            Virus\n",
       "\n",
       "[114000 rows x 1 columns]"
      ]
     },
     "execution_count": 24,
     "metadata": {},
     "output_type": "execute_result"
    }
   ],
   "source": [
    "result"
   ]
  },
  {
   "cell_type": "code",
   "execution_count": 25,
   "metadata": {},
   "outputs": [
    {
     "data": {
      "text/plain": [
       "Index(['sty'], dtype='object')"
      ]
     },
     "execution_count": 25,
     "metadata": {},
     "output_type": "execute_result"
    }
   ],
   "source": [
    "result.columns"
   ]
  },
  {
   "cell_type": "code",
   "execution_count": 26,
   "metadata": {},
   "outputs": [
    {
     "data": {
      "text/plain": [
       "Index(['C4308464', 'C0909860', 'C1701243', 'C1174899', 'C0905670', 'C0965019',\n",
       "       'C0258767', 'C1257353', 'C0911854', 'C0626561',\n",
       "       ...\n",
       "       'C3915538', 'C0999858', 'C3001775', 'C3609536', 'C2276660', 'C4001227',\n",
       "       'C3765715', 'C2672085', 'C4167198', 'C4345060'],\n",
       "      dtype='object', name='cui', length=114000)"
      ]
     },
     "execution_count": 26,
     "metadata": {},
     "output_type": "execute_result"
    }
   ],
   "source": [
    "result.index"
   ]
  },
  {
   "cell_type": "code",
   "execution_count": 27,
   "metadata": {},
   "outputs": [],
   "source": [
    "result.to_csv(\"umls_sty_samples.csv\", sep=\"|\", encoding=\"utf-8\", header=None )"
   ]
  },
  {
   "cell_type": "code",
   "execution_count": 40,
   "metadata": {},
   "outputs": [],
   "source": [
    "umls_sty = pd.read_csv(\"G:\\\\CEGNN\\\\materials\\\\umls\\\\umls_sty_samples.csv\",\n",
    "                       names=[\"cui\", \"sty\"], delimiter=\"|\", index_col=False, encoding=\"utf-8\")"
   ]
  },
  {
   "cell_type": "code",
   "execution_count": 49,
   "metadata": {},
   "outputs": [],
   "source": [
    "umls_rel = pd.read_csv(\"G:\\\\CEGNN\\\\materials\\\\umls\\\\umls_rel_RLRQSIBCHD.csv\", names=[\"cui1\", \"cui2\"], delimiter=\"\\t\", encoding=\"utf-8\")"
   ]
  },
  {
   "cell_type": "code",
   "execution_count": 41,
   "metadata": {},
   "outputs": [
    {
     "data": {
      "text/html": [
       "<div>\n",
       "<style scoped>\n",
       "    .dataframe tbody tr th:only-of-type {\n",
       "        vertical-align: middle;\n",
       "    }\n",
       "\n",
       "    .dataframe tbody tr th {\n",
       "        vertical-align: top;\n",
       "    }\n",
       "\n",
       "    .dataframe thead th {\n",
       "        text-align: right;\n",
       "    }\n",
       "</style>\n",
       "<table border=\"1\" class=\"dataframe\">\n",
       "  <thead>\n",
       "    <tr style=\"text-align: right;\">\n",
       "      <th></th>\n",
       "      <th>cui</th>\n",
       "      <th>sty</th>\n",
       "    </tr>\n",
       "  </thead>\n",
       "  <tbody>\n",
       "    <tr>\n",
       "      <td>0</td>\n",
       "      <td>C4308464</td>\n",
       "      <td>Amino Acid, Peptide, or Protein</td>\n",
       "    </tr>\n",
       "    <tr>\n",
       "      <td>1</td>\n",
       "      <td>C0909860</td>\n",
       "      <td>Amino Acid, Peptide, or Protein</td>\n",
       "    </tr>\n",
       "    <tr>\n",
       "      <td>2</td>\n",
       "      <td>C1701243</td>\n",
       "      <td>Amino Acid, Peptide, or Protein</td>\n",
       "    </tr>\n",
       "    <tr>\n",
       "      <td>3</td>\n",
       "      <td>C1174899</td>\n",
       "      <td>Amino Acid, Peptide, or Protein</td>\n",
       "    </tr>\n",
       "    <tr>\n",
       "      <td>4</td>\n",
       "      <td>C0905670</td>\n",
       "      <td>Amino Acid, Peptide, or Protein</td>\n",
       "    </tr>\n",
       "  </tbody>\n",
       "</table>\n",
       "</div>"
      ],
      "text/plain": [
       "        cui                              sty\n",
       "0  C4308464  Amino Acid, Peptide, or Protein\n",
       "1  C0909860  Amino Acid, Peptide, or Protein\n",
       "2  C1701243  Amino Acid, Peptide, or Protein\n",
       "3  C1174899  Amino Acid, Peptide, or Protein\n",
       "4  C0905670  Amino Acid, Peptide, or Protein"
      ]
     },
     "execution_count": 41,
     "metadata": {},
     "output_type": "execute_result"
    }
   ],
   "source": [
    "umls_sty.head()"
   ]
  },
  {
   "cell_type": "code",
   "execution_count": 50,
   "metadata": {},
   "outputs": [
    {
     "data": {
      "text/html": [
       "<div>\n",
       "<style scoped>\n",
       "    .dataframe tbody tr th:only-of-type {\n",
       "        vertical-align: middle;\n",
       "    }\n",
       "\n",
       "    .dataframe tbody tr th {\n",
       "        vertical-align: top;\n",
       "    }\n",
       "\n",
       "    .dataframe thead th {\n",
       "        text-align: right;\n",
       "    }\n",
       "</style>\n",
       "<table border=\"1\" class=\"dataframe\">\n",
       "  <thead>\n",
       "    <tr style=\"text-align: right;\">\n",
       "      <th></th>\n",
       "      <th>cui1</th>\n",
       "      <th>cui2</th>\n",
       "    </tr>\n",
       "  </thead>\n",
       "  <tbody>\n",
       "    <tr>\n",
       "      <td>0</td>\n",
       "      <td>39194</td>\n",
       "      <td>39194</td>\n",
       "    </tr>\n",
       "    <tr>\n",
       "      <td>1</td>\n",
       "      <td>39194</td>\n",
       "      <td>39194</td>\n",
       "    </tr>\n",
       "    <tr>\n",
       "      <td>2</td>\n",
       "      <td>39194</td>\n",
       "      <td>39194</td>\n",
       "    </tr>\n",
       "    <tr>\n",
       "      <td>3</td>\n",
       "      <td>4561</td>\n",
       "      <td>4561</td>\n",
       "    </tr>\n",
       "    <tr>\n",
       "      <td>4</td>\n",
       "      <td>4561</td>\n",
       "      <td>4561</td>\n",
       "    </tr>\n",
       "  </tbody>\n",
       "</table>\n",
       "</div>"
      ],
      "text/plain": [
       "    cui1   cui2\n",
       "0  39194  39194\n",
       "1  39194  39194\n",
       "2  39194  39194\n",
       "3   4561   4561\n",
       "4   4561   4561"
      ]
     },
     "execution_count": 50,
     "metadata": {},
     "output_type": "execute_result"
    }
   ],
   "source": [
    "umls_rel.head()"
   ]
  },
  {
   "cell_type": "code",
   "execution_count": 51,
   "metadata": {},
   "outputs": [],
   "source": [
    "cui = umls_sty[\"cui\"].unique()"
   ]
  },
  {
   "cell_type": "code",
   "execution_count": 52,
   "metadata": {},
   "outputs": [
    {
     "data": {
      "text/plain": [
       "113707"
      ]
     },
     "execution_count": 52,
     "metadata": {},
     "output_type": "execute_result"
    }
   ],
   "source": [
    "len(cui)"
   ]
  },
  {
   "cell_type": "code",
   "execution_count": 53,
   "metadata": {},
   "outputs": [],
   "source": [
    "cui = list(cui)"
   ]
  },
  {
   "cell_type": "code",
   "execution_count": 55,
   "metadata": {},
   "outputs": [],
   "source": [
    "cui = [int(c[1:]) for c in cui]"
   ]
  },
  {
   "cell_type": "code",
   "execution_count": null,
   "metadata": {},
   "outputs": [],
   "source": []
  },
  {
   "cell_type": "code",
   "execution_count": 57,
   "metadata": {},
   "outputs": [],
   "source": [
    "umls_rel2 = umls_rel[(umls_rel[\"cui1\"].isin(cui)) & (umls_rel[\"cui2\"].isin(cui))]"
   ]
  },
  {
   "cell_type": "code",
   "execution_count": 59,
   "metadata": {},
   "outputs": [
    {
     "data": {
      "text/plain": [
       "(176123, 2)"
      ]
     },
     "execution_count": 59,
     "metadata": {},
     "output_type": "execute_result"
    }
   ],
   "source": [
    "umls_rel2.shape"
   ]
  },
  {
   "cell_type": "code",
   "execution_count": 61,
   "metadata": {},
   "outputs": [],
   "source": [
    "umls_rel2.to_csv(\"umls_rel_sty.csv\", sep=\"\\t\", encoding=\"utf-8\", header=None)"
   ]
  },
  {
   "cell_type": "code",
   "execution_count": 62,
   "metadata": {},
   "outputs": [
    {
     "name": "stderr",
     "output_type": "stream",
     "text": [
      "C:\\softwares\\anaconda3\\lib\\site-packages\\ipykernel_launcher.py:1: SettingWithCopyWarning: \n",
      "A value is trying to be set on a copy of a slice from a DataFrame.\n",
      "Try using .loc[row_indexer,col_indexer] = value instead\n",
      "\n",
      "See the caveats in the documentation: http://pandas.pydata.org/pandas-docs/stable/user_guide/indexing.html#returning-a-view-versus-a-copy\n",
      "  \"\"\"Entry point for launching an IPython kernel.\n"
     ]
    }
   ],
   "source": [
    "umls_rel2[\"weight\"] = 1"
   ]
  },
  {
   "cell_type": "code",
   "execution_count": 64,
   "metadata": {},
   "outputs": [],
   "source": [
    "umls_rel2.to_csv(\"umls_rel_sty_weight.csv\", sep=\"\\t\", encoding=\"utf-8\", header=None)"
   ]
  },
  {
   "cell_type": "code",
   "execution_count": 13,
   "metadata": {},
   "outputs": [],
   "source": [
    "data = pd.read_csv(\"G:\\\\CEGNN\\\\materials\\\\umls\\\\umls_rel_sty.csv\",\n",
    "                       names=[\"index\", \"cui\", \"sty\"], delimiter=\"\\t\", index_col=False, encoding=\"utf-8\")"
   ]
  },
  {
   "cell_type": "code",
   "execution_count": 14,
   "metadata": {},
   "outputs": [
    {
     "data": {
      "text/html": [
       "<div>\n",
       "<style scoped>\n",
       "    .dataframe tbody tr th:only-of-type {\n",
       "        vertical-align: middle;\n",
       "    }\n",
       "\n",
       "    .dataframe tbody tr th {\n",
       "        vertical-align: top;\n",
       "    }\n",
       "\n",
       "    .dataframe thead th {\n",
       "        text-align: right;\n",
       "    }\n",
       "</style>\n",
       "<table border=\"1\" class=\"dataframe\">\n",
       "  <thead>\n",
       "    <tr style=\"text-align: right;\">\n",
       "      <th></th>\n",
       "      <th>index</th>\n",
       "      <th>cui</th>\n",
       "      <th>sty</th>\n",
       "    </tr>\n",
       "  </thead>\n",
       "  <tbody>\n",
       "    <tr>\n",
       "      <td>0</td>\n",
       "      <td>33</td>\n",
       "      <td>1480</td>\n",
       "      <td>1480</td>\n",
       "    </tr>\n",
       "    <tr>\n",
       "      <td>1</td>\n",
       "      <td>72</td>\n",
       "      <td>18346</td>\n",
       "      <td>18346</td>\n",
       "    </tr>\n",
       "    <tr>\n",
       "      <td>2</td>\n",
       "      <td>87</td>\n",
       "      <td>21584</td>\n",
       "      <td>21584</td>\n",
       "    </tr>\n",
       "    <tr>\n",
       "      <td>3</td>\n",
       "      <td>102</td>\n",
       "      <td>42947</td>\n",
       "      <td>42947</td>\n",
       "    </tr>\n",
       "    <tr>\n",
       "      <td>4</td>\n",
       "      <td>103</td>\n",
       "      <td>42947</td>\n",
       "      <td>42947</td>\n",
       "    </tr>\n",
       "  </tbody>\n",
       "</table>\n",
       "</div>"
      ],
      "text/plain": [
       "   index    cui    sty\n",
       "0     33   1480   1480\n",
       "1     72  18346  18346\n",
       "2     87  21584  21584\n",
       "3    102  42947  42947\n",
       "4    103  42947  42947"
      ]
     },
     "execution_count": 14,
     "metadata": {},
     "output_type": "execute_result"
    }
   ],
   "source": [
    "data.head()"
   ]
  },
  {
   "cell_type": "code",
   "execution_count": 15,
   "metadata": {},
   "outputs": [],
   "source": [
    "data = data[[\"cui\", \"sty\"]]"
   ]
  },
  {
   "cell_type": "code",
   "execution_count": 16,
   "metadata": {},
   "outputs": [
    {
     "data": {
      "text/html": [
       "<div>\n",
       "<style scoped>\n",
       "    .dataframe tbody tr th:only-of-type {\n",
       "        vertical-align: middle;\n",
       "    }\n",
       "\n",
       "    .dataframe tbody tr th {\n",
       "        vertical-align: top;\n",
       "    }\n",
       "\n",
       "    .dataframe thead th {\n",
       "        text-align: right;\n",
       "    }\n",
       "</style>\n",
       "<table border=\"1\" class=\"dataframe\">\n",
       "  <thead>\n",
       "    <tr style=\"text-align: right;\">\n",
       "      <th></th>\n",
       "      <th>cui</th>\n",
       "      <th>sty</th>\n",
       "    </tr>\n",
       "  </thead>\n",
       "  <tbody>\n",
       "    <tr>\n",
       "      <td>0</td>\n",
       "      <td>1480</td>\n",
       "      <td>1480</td>\n",
       "    </tr>\n",
       "    <tr>\n",
       "      <td>1</td>\n",
       "      <td>18346</td>\n",
       "      <td>18346</td>\n",
       "    </tr>\n",
       "    <tr>\n",
       "      <td>2</td>\n",
       "      <td>21584</td>\n",
       "      <td>21584</td>\n",
       "    </tr>\n",
       "    <tr>\n",
       "      <td>3</td>\n",
       "      <td>42947</td>\n",
       "      <td>42947</td>\n",
       "    </tr>\n",
       "    <tr>\n",
       "      <td>4</td>\n",
       "      <td>42947</td>\n",
       "      <td>42947</td>\n",
       "    </tr>\n",
       "  </tbody>\n",
       "</table>\n",
       "</div>"
      ],
      "text/plain": [
       "     cui    sty\n",
       "0   1480   1480\n",
       "1  18346  18346\n",
       "2  21584  21584\n",
       "3  42947  42947\n",
       "4  42947  42947"
      ]
     },
     "execution_count": 16,
     "metadata": {},
     "output_type": "execute_result"
    }
   ],
   "source": [
    "data.head()"
   ]
  },
  {
   "cell_type": "code",
   "execution_count": 9,
   "metadata": {},
   "outputs": [],
   "source": [
    "data.to_csv(\"umls_rel_sty.csv\", sep=\"\\t\", encoding=\"utf-8\", header=None, index=None)"
   ]
  },
  {
   "cell_type": "code",
   "execution_count": 17,
   "metadata": {},
   "outputs": [
    {
     "data": {
      "text/plain": [
       "(176123, 2)"
      ]
     },
     "execution_count": 17,
     "metadata": {},
     "output_type": "execute_result"
    }
   ],
   "source": [
    "data.shape"
   ]
  },
  {
   "cell_type": "code",
   "execution_count": 18,
   "metadata": {},
   "outputs": [],
   "source": [
    "data = data.drop_duplicates(keep=\"first\")"
   ]
  },
  {
   "cell_type": "code",
   "execution_count": 19,
   "metadata": {},
   "outputs": [
    {
     "data": {
      "text/plain": [
       "(58752, 2)"
      ]
     },
     "execution_count": 19,
     "metadata": {},
     "output_type": "execute_result"
    }
   ],
   "source": [
    "data.shape"
   ]
  },
  {
   "cell_type": "code",
   "execution_count": 20,
   "metadata": {},
   "outputs": [
    {
     "data": {
      "text/plain": [
       "(58752,)"
      ]
     },
     "execution_count": 20,
     "metadata": {},
     "output_type": "execute_result"
    }
   ],
   "source": [
    "data[\"cui\"].shape"
   ]
  },
  {
   "cell_type": "code",
   "execution_count": 21,
   "metadata": {},
   "outputs": [],
   "source": []
  },
  {
   "cell_type": "code",
   "execution_count": 23,
   "metadata": {},
   "outputs": [],
   "source": [
    "data[\"cui\"] = data[\"cui\"].astype('str')\n",
    "data[\"sty\"] = data[\"sty\"].astype('str')"
   ]
  },
  {
   "cell_type": "code",
   "execution_count": 32,
   "metadata": {},
   "outputs": [],
   "source": [
    "c = data[\"cui\"].tolist()"
   ]
  },
  {
   "cell_type": "code",
   "execution_count": 33,
   "metadata": {},
   "outputs": [],
   "source": [
    "cc = data[\"sty\"].tolist()"
   ]
  },
  {
   "cell_type": "code",
   "execution_count": 44,
   "metadata": {},
   "outputs": [],
   "source": [
    "data.to_csv(\"umls_rel_sty.csv\", sep=\"\\t\", encoding=\"utf-8\", header=None, index=None)"
   ]
  },
  {
   "cell_type": "code",
   "execution_count": 38,
   "metadata": {},
   "outputs": [],
   "source": [
    "ccc = c + cc"
   ]
  },
  {
   "cell_type": "code",
   "execution_count": 41,
   "metadata": {},
   "outputs": [],
   "source": [
    "c = set(ccc)"
   ]
  },
  {
   "cell_type": "code",
   "execution_count": 45,
   "metadata": {},
   "outputs": [],
   "source": [
    "ccui = pd.DataFrame()"
   ]
  },
  {
   "cell_type": "code",
   "execution_count": 48,
   "metadata": {},
   "outputs": [],
   "source": [
    "ccui[\"cui\"] = pd.Series(list(c))"
   ]
  },
  {
   "cell_type": "code",
   "execution_count": 50,
   "metadata": {},
   "outputs": [],
   "source": [
    "ccui.to_csv(\"umls_cui_sty.csv\", sep=\"\\t\", encoding=\"utf-8\", header=None, index=None)"
   ]
  },
  {
   "cell_type": "code",
   "execution_count": 51,
   "metadata": {},
   "outputs": [
    {
     "data": {
      "text/html": [
       "<div>\n",
       "<style scoped>\n",
       "    .dataframe tbody tr th:only-of-type {\n",
       "        vertical-align: middle;\n",
       "    }\n",
       "\n",
       "    .dataframe tbody tr th {\n",
       "        vertical-align: top;\n",
       "    }\n",
       "\n",
       "    .dataframe thead th {\n",
       "        text-align: right;\n",
       "    }\n",
       "</style>\n",
       "<table border=\"1\" class=\"dataframe\">\n",
       "  <thead>\n",
       "    <tr style=\"text-align: right;\">\n",
       "      <th></th>\n",
       "      <th>cui</th>\n",
       "    </tr>\n",
       "  </thead>\n",
       "  <tbody>\n",
       "    <tr>\n",
       "      <td>0</td>\n",
       "      <td>324540</td>\n",
       "    </tr>\n",
       "    <tr>\n",
       "      <td>1</td>\n",
       "      <td>1272482</td>\n",
       "    </tr>\n",
       "    <tr>\n",
       "      <td>2</td>\n",
       "      <td>1656644</td>\n",
       "    </tr>\n",
       "    <tr>\n",
       "      <td>3</td>\n",
       "      <td>2542287</td>\n",
       "    </tr>\n",
       "    <tr>\n",
       "      <td>4</td>\n",
       "      <td>201998</td>\n",
       "    </tr>\n",
       "  </tbody>\n",
       "</table>\n",
       "</div>"
      ],
      "text/plain": [
       "       cui\n",
       "0   324540\n",
       "1  1272482\n",
       "2  1656644\n",
       "3  2542287\n",
       "4   201998"
      ]
     },
     "execution_count": 51,
     "metadata": {},
     "output_type": "execute_result"
    }
   ],
   "source": [
    "ccui.head()"
   ]
  },
  {
   "cell_type": "code",
   "execution_count": 52,
   "metadata": {},
   "outputs": [],
   "source": [
    "cui_sty_label = pd.read_csv(\"G:\\\\CEGNN\\\\materials\\\\umls\\\\umls_sty_samples.csv\",\n",
    "                       names=[ \"cui\", \"sty\"], delimiter=\"|\", index_col=False, encoding=\"utf-8\")"
   ]
  },
  {
   "cell_type": "code",
   "execution_count": 53,
   "metadata": {},
   "outputs": [
    {
     "data": {
      "text/html": [
       "<div>\n",
       "<style scoped>\n",
       "    .dataframe tbody tr th:only-of-type {\n",
       "        vertical-align: middle;\n",
       "    }\n",
       "\n",
       "    .dataframe tbody tr th {\n",
       "        vertical-align: top;\n",
       "    }\n",
       "\n",
       "    .dataframe thead th {\n",
       "        text-align: right;\n",
       "    }\n",
       "</style>\n",
       "<table border=\"1\" class=\"dataframe\">\n",
       "  <thead>\n",
       "    <tr style=\"text-align: right;\">\n",
       "      <th></th>\n",
       "      <th>cui</th>\n",
       "      <th>sty</th>\n",
       "    </tr>\n",
       "  </thead>\n",
       "  <tbody>\n",
       "    <tr>\n",
       "      <td>0</td>\n",
       "      <td>C4308464</td>\n",
       "      <td>Amino Acid, Peptide, or Protein</td>\n",
       "    </tr>\n",
       "    <tr>\n",
       "      <td>1</td>\n",
       "      <td>C0909860</td>\n",
       "      <td>Amino Acid, Peptide, or Protein</td>\n",
       "    </tr>\n",
       "    <tr>\n",
       "      <td>2</td>\n",
       "      <td>C1701243</td>\n",
       "      <td>Amino Acid, Peptide, or Protein</td>\n",
       "    </tr>\n",
       "    <tr>\n",
       "      <td>3</td>\n",
       "      <td>C1174899</td>\n",
       "      <td>Amino Acid, Peptide, or Protein</td>\n",
       "    </tr>\n",
       "    <tr>\n",
       "      <td>4</td>\n",
       "      <td>C0905670</td>\n",
       "      <td>Amino Acid, Peptide, or Protein</td>\n",
       "    </tr>\n",
       "    <tr>\n",
       "      <td>...</td>\n",
       "      <td>...</td>\n",
       "      <td>...</td>\n",
       "    </tr>\n",
       "    <tr>\n",
       "      <td>113995</td>\n",
       "      <td>C4001227</td>\n",
       "      <td>Virus</td>\n",
       "    </tr>\n",
       "    <tr>\n",
       "      <td>113996</td>\n",
       "      <td>C3765715</td>\n",
       "      <td>Virus</td>\n",
       "    </tr>\n",
       "    <tr>\n",
       "      <td>113997</td>\n",
       "      <td>C2672085</td>\n",
       "      <td>Virus</td>\n",
       "    </tr>\n",
       "    <tr>\n",
       "      <td>113998</td>\n",
       "      <td>C4167198</td>\n",
       "      <td>Virus</td>\n",
       "    </tr>\n",
       "    <tr>\n",
       "      <td>113999</td>\n",
       "      <td>C4345060</td>\n",
       "      <td>Virus</td>\n",
       "    </tr>\n",
       "  </tbody>\n",
       "</table>\n",
       "<p>114000 rows × 2 columns</p>\n",
       "</div>"
      ],
      "text/plain": [
       "             cui                              sty\n",
       "0       C4308464  Amino Acid, Peptide, or Protein\n",
       "1       C0909860  Amino Acid, Peptide, or Protein\n",
       "2       C1701243  Amino Acid, Peptide, or Protein\n",
       "3       C1174899  Amino Acid, Peptide, or Protein\n",
       "4       C0905670  Amino Acid, Peptide, or Protein\n",
       "...          ...                              ...\n",
       "113995  C4001227                            Virus\n",
       "113996  C3765715                            Virus\n",
       "113997  C2672085                            Virus\n",
       "113998  C4167198                            Virus\n",
       "113999  C4345060                            Virus\n",
       "\n",
       "[114000 rows x 2 columns]"
      ]
     },
     "execution_count": 53,
     "metadata": {},
     "output_type": "execute_result"
    }
   ],
   "source": [
    "cui_sty_label"
   ]
  },
  {
   "cell_type": "code",
   "execution_count": 62,
   "metadata": {},
   "outputs": [],
   "source": [
    "ccc = [\"C\"+c for c in ccc]"
   ]
  },
  {
   "cell_type": "code",
   "execution_count": null,
   "metadata": {},
   "outputs": [],
   "source": []
  },
  {
   "cell_type": "code",
   "execution_count": 64,
   "metadata": {},
   "outputs": [],
   "source": [
    "cui_sty_label_t = cui_sty_label[cui_sty_label[\"cui\"].isin(ccc)]"
   ]
  },
  {
   "cell_type": "code",
   "execution_count": 65,
   "metadata": {},
   "outputs": [
    {
     "data": {
      "text/plain": [
       "(20623, 2)"
      ]
     },
     "execution_count": 65,
     "metadata": {},
     "output_type": "execute_result"
    }
   ],
   "source": [
    "cui_sty_label_t.shape"
   ]
  },
  {
   "cell_type": "code",
   "execution_count": 67,
   "metadata": {},
   "outputs": [
    {
     "data": {
      "text/html": [
       "<div>\n",
       "<style scoped>\n",
       "    .dataframe tbody tr th:only-of-type {\n",
       "        vertical-align: middle;\n",
       "    }\n",
       "\n",
       "    .dataframe tbody tr th {\n",
       "        vertical-align: top;\n",
       "    }\n",
       "\n",
       "    .dataframe thead th {\n",
       "        text-align: right;\n",
       "    }\n",
       "</style>\n",
       "<table border=\"1\" class=\"dataframe\">\n",
       "  <thead>\n",
       "    <tr style=\"text-align: right;\">\n",
       "      <th></th>\n",
       "      <th>cui</th>\n",
       "      <th>sty</th>\n",
       "    </tr>\n",
       "  </thead>\n",
       "  <tbody>\n",
       "    <tr>\n",
       "      <td>12</td>\n",
       "      <td>C4053948</td>\n",
       "      <td>Amino Acid, Peptide, or Protein</td>\n",
       "    </tr>\n",
       "    <tr>\n",
       "      <td>15</td>\n",
       "      <td>C0034830</td>\n",
       "      <td>Amino Acid, Peptide, or Protein</td>\n",
       "    </tr>\n",
       "    <tr>\n",
       "      <td>28</td>\n",
       "      <td>C4304270</td>\n",
       "      <td>Amino Acid, Peptide, or Protein</td>\n",
       "    </tr>\n",
       "    <tr>\n",
       "      <td>75</td>\n",
       "      <td>C0008396</td>\n",
       "      <td>Amino Acid, Peptide, or Protein</td>\n",
       "    </tr>\n",
       "    <tr>\n",
       "      <td>82</td>\n",
       "      <td>C0001655</td>\n",
       "      <td>Amino Acid, Peptide, or Protein</td>\n",
       "    </tr>\n",
       "  </tbody>\n",
       "</table>\n",
       "</div>"
      ],
      "text/plain": [
       "         cui                              sty\n",
       "12  C4053948  Amino Acid, Peptide, or Protein\n",
       "15  C0034830  Amino Acid, Peptide, or Protein\n",
       "28  C4304270  Amino Acid, Peptide, or Protein\n",
       "75  C0008396  Amino Acid, Peptide, or Protein\n",
       "82  C0001655  Amino Acid, Peptide, or Protein"
      ]
     },
     "execution_count": 67,
     "metadata": {},
     "output_type": "execute_result"
    }
   ],
   "source": [
    "cui_sty_label_t.head()"
   ]
  },
  {
   "cell_type": "code",
   "execution_count": 68,
   "metadata": {},
   "outputs": [],
   "source": [
    "cui_sty_label_t.to_csv(\"umls_cui_sty_samples.csv\", sep=\"|\", encoding=\"utf-8\", header=None, index=None)"
   ]
  },
  {
   "cell_type": "code",
   "execution_count": null,
   "metadata": {},
   "outputs": [],
   "source": []
  }
 ],
 "metadata": {
  "kernelspec": {
   "display_name": "Python 3",
   "language": "python",
   "name": "python3"
  },
  "language_info": {
   "codemirror_mode": {
    "name": "ipython",
    "version": 3
   },
   "file_extension": ".py",
   "mimetype": "text/x-python",
   "name": "python",
   "nbconvert_exporter": "python",
   "pygments_lexer": "ipython3",
   "version": "3.7.4"
  }
 },
 "nbformat": 4,
 "nbformat_minor": 2
}
