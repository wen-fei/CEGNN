{
 "cells": [
  {
   "cell_type": "code",
   "execution_count": 61,
   "metadata": {},
   "outputs": [],
   "source": [
    "import pandas as pd"
   ]
  },
  {
   "cell_type": "code",
   "execution_count": 5,
   "metadata": {},
   "outputs": [],
   "source": [
    "uniprot_path = \"G:\\\\CEGNN\\\\materials\\\\auniprot\\\\uniprot-interactor.xlsx\""
   ]
  },
  {
   "cell_type": "code",
   "execution_count": 7,
   "metadata": {},
   "outputs": [],
   "source": [
    "data = pd.read_excel(uniprot_path, sheet_name =0)"
   ]
  },
  {
   "cell_type": "code",
   "execution_count": 8,
   "metadata": {},
   "outputs": [
    {
     "data": {
      "text/html": [
       "<div>\n",
       "<style scoped>\n",
       "    .dataframe tbody tr th:only-of-type {\n",
       "        vertical-align: middle;\n",
       "    }\n",
       "\n",
       "    .dataframe tbody tr th {\n",
       "        vertical-align: top;\n",
       "    }\n",
       "\n",
       "    .dataframe thead th {\n",
       "        text-align: right;\n",
       "    }\n",
       "</style>\n",
       "<table border=\"1\" class=\"dataframe\">\n",
       "  <thead>\n",
       "    <tr style=\"text-align: right;\">\n",
       "      <th></th>\n",
       "      <th>Entry</th>\n",
       "      <th>Entry name</th>\n",
       "      <th>Status</th>\n",
       "      <th>Protein names</th>\n",
       "      <th>Length</th>\n",
       "      <th>Interacts with</th>\n",
       "    </tr>\n",
       "  </thead>\n",
       "  <tbody>\n",
       "    <tr>\n",
       "      <td>0</td>\n",
       "      <td>Q8N8B7</td>\n",
       "      <td>TEANC_HUMAN</td>\n",
       "      <td>reviewed</td>\n",
       "      <td>Transcription elongation factor A N-terminal a...</td>\n",
       "      <td>351</td>\n",
       "      <td>Q9H257; Q8N4Y2; Q96S65; O75553; Q8IZU0; O95073...</td>\n",
       "    </tr>\n",
       "    <tr>\n",
       "      <td>1</td>\n",
       "      <td>Q1MTQ1</td>\n",
       "      <td>TEA2_SCHPO</td>\n",
       "      <td>reviewed</td>\n",
       "      <td>Kinesin-like protein tea2 (Kinesin-like protei...</td>\n",
       "      <td>628</td>\n",
       "      <td>Q10113; P79065</td>\n",
       "    </tr>\n",
       "    <tr>\n",
       "      <td>2</td>\n",
       "      <td>P28707</td>\n",
       "      <td>SBA1_YEAST</td>\n",
       "      <td>reviewed</td>\n",
       "      <td>Co-chaperone protein SBA1</td>\n",
       "      <td>216</td>\n",
       "      <td>P02829</td>\n",
       "    </tr>\n",
       "    <tr>\n",
       "      <td>3</td>\n",
       "      <td>P30873</td>\n",
       "      <td>SSR1_MOUSE</td>\n",
       "      <td>reviewed</td>\n",
       "      <td>Somatostatin receptor type 1 (SS-1-R) (SS1-R) ...</td>\n",
       "      <td>391</td>\n",
       "      <td>Q62108</td>\n",
       "    </tr>\n",
       "    <tr>\n",
       "      <td>4</td>\n",
       "      <td>Q99598</td>\n",
       "      <td>TSNAX_HUMAN</td>\n",
       "      <td>reviewed</td>\n",
       "      <td>Translin-associated protein X (Translin-associ...</td>\n",
       "      <td>290</td>\n",
       "      <td>Q12904; Q8TDH9; Q9H257; O95257; Q6P597; O43679...</td>\n",
       "    </tr>\n",
       "  </tbody>\n",
       "</table>\n",
       "</div>"
      ],
      "text/plain": [
       "    Entry   Entry name    Status  \\\n",
       "0  Q8N8B7  TEANC_HUMAN  reviewed   \n",
       "1  Q1MTQ1   TEA2_SCHPO  reviewed   \n",
       "2  P28707   SBA1_YEAST  reviewed   \n",
       "3  P30873   SSR1_MOUSE  reviewed   \n",
       "4  Q99598  TSNAX_HUMAN  reviewed   \n",
       "\n",
       "                                       Protein names  Length  \\\n",
       "0  Transcription elongation factor A N-terminal a...     351   \n",
       "1  Kinesin-like protein tea2 (Kinesin-like protei...     628   \n",
       "2                          Co-chaperone protein SBA1     216   \n",
       "3  Somatostatin receptor type 1 (SS-1-R) (SS1-R) ...     391   \n",
       "4  Translin-associated protein X (Translin-associ...     290   \n",
       "\n",
       "                                      Interacts with  \n",
       "0  Q9H257; Q8N4Y2; Q96S65; O75553; Q8IZU0; O95073...  \n",
       "1                                     Q10113; P79065  \n",
       "2                                             P02829  \n",
       "3                                             Q62108  \n",
       "4  Q12904; Q8TDH9; Q9H257; O95257; Q6P597; O43679...  "
      ]
     },
     "execution_count": 8,
     "metadata": {},
     "output_type": "execute_result"
    }
   ],
   "source": [
    "data.head()"
   ]
  },
  {
   "cell_type": "code",
   "execution_count": 30,
   "metadata": {},
   "outputs": [
    {
     "data": {
      "text/plain": [
       "(23080,)"
      ]
     },
     "execution_count": 30,
     "metadata": {},
     "output_type": "execute_result"
    }
   ],
   "source": [
    "data[\"Entry\"].unique().shape"
   ]
  },
  {
   "cell_type": "code",
   "execution_count": 24,
   "metadata": {},
   "outputs": [],
   "source": [
    "prot_prot = []\n",
    "\n",
    "for index, row in data.iterrows():\n",
    "    entry = row[\"Entry\"]\n",
    "    interactions = row[\"Interacts with\"].split(\";\")\n",
    "    for x in interactions:\n",
    "        if x == \"Itself\":\n",
    "            x = entry\n",
    "        prot_prot.append([entry, x]) "
   ]
  },
  {
   "cell_type": "code",
   "execution_count": 25,
   "metadata": {},
   "outputs": [],
   "source": [
    "import numpy as np\n",
    "prot_prot = np.array(prot_prot)"
   ]
  },
  {
   "cell_type": "code",
   "execution_count": 26,
   "metadata": {},
   "outputs": [
    {
     "data": {
      "text/plain": [
       "array([['Q8N8B7', 'Q9H257'],\n",
       "       ['Q8N8B7', ' Q8N4Y2'],\n",
       "       ['Q8N8B7', ' Q96S65'],\n",
       "       ...,\n",
       "       ['Q71B31', 'Q71B31'],\n",
       "       ['Q8UN00', 'P29590'],\n",
       "       ['Q8UN00', ' Q60953']], dtype='<U13')"
      ]
     },
     "execution_count": 26,
     "metadata": {},
     "output_type": "execute_result"
    }
   ],
   "source": [
    "prot_prot"
   ]
  },
  {
   "cell_type": "code",
   "execution_count": 27,
   "metadata": {},
   "outputs": [],
   "source": [
    "s = pd.DataFrame(prot_prot, columns=[\"prot1\", \"prot2\"])"
   ]
  },
  {
   "cell_type": "code",
   "execution_count": 28,
   "metadata": {},
   "outputs": [],
   "source": [
    "s.to_csv(\"uniprot_interactions.csv\", sep=\"\\t\", encoding=\"utf-8\", index=False)"
   ]
  },
  {
   "cell_type": "code",
   "execution_count": 31,
   "metadata": {},
   "outputs": [],
   "source": [
    "prot_all = s[\"prot1\"].tolist()"
   ]
  },
  {
   "cell_type": "code",
   "execution_count": 36,
   "metadata": {},
   "outputs": [],
   "source": [
    "prot_all = prot_all + s[\"prot2\"].tolist()"
   ]
  },
  {
   "cell_type": "code",
   "execution_count": 37,
   "metadata": {},
   "outputs": [
    {
     "data": {
      "text/plain": [
       "174178"
      ]
     },
     "execution_count": 37,
     "metadata": {},
     "output_type": "execute_result"
    }
   ],
   "source": [
    "len(prot_all)"
   ]
  },
  {
   "cell_type": "code",
   "execution_count": 38,
   "metadata": {},
   "outputs": [],
   "source": [
    "prot_all = list(set(prot_all))"
   ]
  },
  {
   "cell_type": "code",
   "execution_count": 39,
   "metadata": {},
   "outputs": [
    {
     "data": {
      "text/plain": [
       "41128"
      ]
     },
     "execution_count": 39,
     "metadata": {},
     "output_type": "execute_result"
    }
   ],
   "source": [
    "len(prot_all)"
   ]
  },
  {
   "cell_type": "code",
   "execution_count": 49,
   "metadata": {},
   "outputs": [],
   "source": [
    "prot_index = []\n",
    "index = 0\n",
    "for x in prot_all:\n",
    "    \n",
    "    prot_index.append([index, x])\n",
    "    index+=1"
   ]
  },
  {
   "cell_type": "code",
   "execution_count": 51,
   "metadata": {},
   "outputs": [],
   "source": [
    "pi = pd.DataFrame(np.array(prot_index), columns=[\"index\",\"prot\"])"
   ]
  },
  {
   "cell_type": "code",
   "execution_count": 53,
   "metadata": {},
   "outputs": [],
   "source": [
    "pi.to_csv(\"index_uniprot.csv\", sep=\"\\t\", encoding=\"utf-8\", index=False)"
   ]
  },
  {
   "cell_type": "code",
   "execution_count": 57,
   "metadata": {},
   "outputs": [],
   "source": [
    "node2index = {str(row[\"prot\"]): str(row[\"index\"]) for _, row in pi.iterrows()}\n",
    "node_node = s[[\"prot1\", \"prot2\"]].astype(str)\n",
    "index2index = node_node[[\"prot1\", \"prot2\"]].applymap(lambda x: node2index[x])"
   ]
  },
  {
   "cell_type": "code",
   "execution_count": 60,
   "metadata": {},
   "outputs": [],
   "source": [
    "index2index.to_csv(\"prot_index2index.csv\", sep=\"\\t\", encoding=\"utf-8\", index=False)"
   ]
  },
  {
   "cell_type": "code",
   "execution_count": 62,
   "metadata": {},
   "outputs": [
    {
     "data": {
      "text/html": [
       "<div>\n",
       "<style scoped>\n",
       "    .dataframe tbody tr th:only-of-type {\n",
       "        vertical-align: middle;\n",
       "    }\n",
       "\n",
       "    .dataframe tbody tr th {\n",
       "        vertical-align: top;\n",
       "    }\n",
       "\n",
       "    .dataframe thead th {\n",
       "        text-align: right;\n",
       "    }\n",
       "</style>\n",
       "<table border=\"1\" class=\"dataframe\">\n",
       "  <thead>\n",
       "    <tr style=\"text-align: right;\">\n",
       "      <th></th>\n",
       "      <th>prot1</th>\n",
       "      <th>prot2</th>\n",
       "    </tr>\n",
       "  </thead>\n",
       "  <tbody>\n",
       "    <tr>\n",
       "      <td>0</td>\n",
       "      <td>20110</td>\n",
       "      <td>13726</td>\n",
       "    </tr>\n",
       "    <tr>\n",
       "      <td>1</td>\n",
       "      <td>20110</td>\n",
       "      <td>38810</td>\n",
       "    </tr>\n",
       "    <tr>\n",
       "      <td>2</td>\n",
       "      <td>20110</td>\n",
       "      <td>28281</td>\n",
       "    </tr>\n",
       "    <tr>\n",
       "      <td>3</td>\n",
       "      <td>20110</td>\n",
       "      <td>23586</td>\n",
       "    </tr>\n",
       "    <tr>\n",
       "      <td>4</td>\n",
       "      <td>20110</td>\n",
       "      <td>32551</td>\n",
       "    </tr>\n",
       "  </tbody>\n",
       "</table>\n",
       "</div>"
      ],
      "text/plain": [
       "   prot1  prot2\n",
       "0  20110  13726\n",
       "1  20110  38810\n",
       "2  20110  28281\n",
       "3  20110  23586\n",
       "4  20110  32551"
      ]
     },
     "execution_count": 62,
     "metadata": {},
     "output_type": "execute_result"
    }
   ],
   "source": [
    "index2index.head()"
   ]
  },
  {
   "cell_type": "code",
   "execution_count": 63,
   "metadata": {},
   "outputs": [],
   "source": [
    "index2index2 = index2index"
   ]
  },
  {
   "cell_type": "code",
   "execution_count": 64,
   "metadata": {},
   "outputs": [],
   "source": [
    "index2index2[\"weight\"] = 1"
   ]
  },
  {
   "cell_type": "code",
   "execution_count": 65,
   "metadata": {},
   "outputs": [],
   "source": [
    "index2index2.to_csv(\"prot_index2index_weight.csv\", sep=\"\\t\", encoding=\"utf-8\", index=False, header=False)"
   ]
  },
  {
   "cell_type": "code",
   "execution_count": null,
   "metadata": {},
   "outputs": [],
   "source": []
  }
 ],
 "metadata": {
  "kernelspec": {
   "display_name": "Python 3",
   "language": "python",
   "name": "python3"
  },
  "language_info": {
   "codemirror_mode": {
    "name": "ipython",
    "version": 3
   },
   "file_extension": ".py",
   "mimetype": "text/x-python",
   "name": "python",
   "nbconvert_exporter": "python",
   "pygments_lexer": "ipython3",
   "version": "3.7.4"
  },
  "pycharm": {
   "stem_cell": {
    "cell_type": "raw",
    "metadata": {
     "collapsed": false
    },
    "source": []
   }
  }
 },
 "nbformat": 4,
 "nbformat_minor": 2
}
