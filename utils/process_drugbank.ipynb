{
 "cells": [
  {
   "cell_type": "code",
   "execution_count": 1,
   "metadata": {},
   "outputs": [],
   "source": [
    "import lxml.etree as ET\n",
    "from tqdm import tqdm\n",
    "import numpy as np\n",
    "from gensim.models import KeyedVectors\n",
    "import pandas as pd\n",
    "from gensim.models import Word2Vec"
   ]
  },
  {
   "cell_type": "code",
   "execution_count": 2,
   "metadata": {},
   "outputs": [],
   "source": [
    "drugbank_path = \"G:\\\\CEGNN\\\\materials\\\\drugbank_all_full_database\\\\drugbank.xml\"\n",
    "drugbank = ET.parse(drugbank_path)\n",
    "root = drugbank.getroot()\n",
    "ns = {'db': 'http://www.drugbank.ca'}"
   ]
  },
  {
   "cell_type": "code",
   "execution_count": 3,
   "metadata": {},
   "outputs": [],
   "source": [
    "drugs = root.xpath(\"db:drug[db:groups/db:group='approved']\", namespaces=ns)"
   ]
  },
  {
   "cell_type": "code",
   "execution_count": 4,
   "metadata": {},
   "outputs": [],
   "source": [
    "drug = drugs[0]"
   ]
  },
  {
   "cell_type": "code",
   "execution_count": 5,
   "metadata": {},
   "outputs": [],
   "source": [
    "drugName = drug.find(\"db:name\", ns).text\n",
    "drugbank_id = drug.find(\"db:drugbank-id[@primary='true']\", ns).text\n",
    "drugDescription = drug.find(\"db:description\", ns).text\n",
    "cas_number = drug.find(\"db:cas-number\", ns).text\n",
    "unii = drug.find(\"db:unii\", ns).text\n",
    "\n",
    "if drugDescription is not None:\n",
    "    drugDescription = drugDescription.replace(\"\\n\", \"\")\n",
    "    drugDescription = drugDescription.replace(\"\\r\", \"\")\n",
    "state = drug.find(\"db:state\", ns)\n",
    "if state is not None:\n",
    "    state = state.text\n",
    "else:\n",
    "    state = \"None\"\n",
    "\n",
    "drug_interactions = drug.xpath(\"db:drug-interactions/db:drug-interaction\", namespaces=ns)\n",
    "interactions_count = len(drug_interactions)\n",
    "\n",
    "group = drug.xpath(\"db:groups/db:group\", namespaces=ns)\n",
    "group_name = \"\"\n",
    "for g in group:\n",
    "    group_name = group_name + \"#\" + g.text\n",
    "\n",
    "clsf = drug.find(\"db:classification\", ns)\n",
    "direct_parent = clsf.find(\"db:direct-parent\", ns)\n",
    "kingdom = clsf.find(\"db:kingdom\", ns)\n",
    "superclass = clsf.find(\"db:superclass\", ns)\n",
    "cclass = clsf.find(\"db:class\", ns)\n",
    "subclass = clsf.find(\"db:subclass\", ns)\n",
    "\n",
    "uniprot_ids = drug.xpath(\"db:pathways/db:pathway/db:enzymes/db:uniprot-id\", namespaces=ns)\n",
    "uniprots = []\n",
    "for uniprot_id in uniprot_ids:\n",
    "    uniprots.append([drugbank_id, uniprot_id.text])"
   ]
  },
  {
   "cell_type": "code",
   "execution_count": 39,
   "metadata": {},
   "outputs": [],
   "source": [
    "clsf = drug.find(\"db:classification\", ns)"
   ]
  },
  {
   "cell_type": "code",
   "execution_count": 40,
   "metadata": {},
   "outputs": [],
   "source": [
    "direct_parent = clsf.find(\"db:direct-parent\", ns)"
   ]
  },
  {
   "cell_type": "code",
   "execution_count": 41,
   "metadata": {},
   "outputs": [
    {
     "data": {
      "text/plain": [
       "'Peptides'"
      ]
     },
     "execution_count": 41,
     "metadata": {},
     "output_type": "execute_result"
    }
   ],
   "source": [
    "direct_parent.text"
   ]
  },
  {
   "cell_type": "code",
   "execution_count": 48,
   "metadata": {},
   "outputs": [],
   "source": []
  },
  {
   "cell_type": "code",
   "execution_count": null,
   "metadata": {},
   "outputs": [],
   "source": []
  },
  {
   "cell_type": "code",
   "execution_count": null,
   "metadata": {},
   "outputs": [],
   "source": [
    "target = drug.xpath(\"db:targets/db:target\", namespaces=ns)\n",
    "if len(target) > 0:\n",
    "    t = target[0]\n",
    "    action = t.find(\"db:actions/db:action\", ns)\n",
    "    if action is not None:\n",
    "        action = action.text\n",
    "    else:\n",
    "        action = \"None\"\n",
    "else:\n",
    "        action = \"None\""
   ]
  },
  {
   "cell_type": "code",
   "execution_count": 13,
   "metadata": {},
   "outputs": [],
   "source": [
    "from gensim.models import KeyedVectors\n",
    "import pandas as pd\n",
    "import os\n",
    "import numpy as np\n",
    "import gensim as gensim"
   ]
  },
  {
   "cell_type": "code",
   "execution_count": 18,
   "metadata": {},
   "outputs": [],
   "source": [
    "def load_embeddings(nodes_list, embedding_file, dim=200):\n",
    "    \"\"\"\n",
    "    针对gensim Word2vec模型保存的embedding文件进行读取\n",
    "    \"\"\"\n",
    "    embeddings_model = gensim.models.KeyedVectors.load_word2vec_format(embedding_file, binary=False,\n",
    "                                                                       unicode_errors='ignore')\n",
    "    embedding_weights = []\n",
    "    found = 0\n",
    "    notfound = 0\n",
    "    for node in nodes_list:\n",
    "        node = int(node[2:])\n",
    "        if str(node) in embeddings_model.vocab:\n",
    "            embedding_weights.append(embeddings_model.word_vec(str(node)))\n",
    "            found += 1\n",
    "            # print(node)\n",
    "        else:\n",
    "            embedding_weights.append(np.random.uniform(-0.25, 0.25, dim).astype(np.float32))\n",
    "            notfound += 1\n",
    "    print(\"found_cnt size is :\" + str(found))\n",
    "    print(\"not found_cnt size is :\" + str(notfound))\n",
    "    return embedding_weights"
   ]
  },
  {
   "cell_type": "code",
   "execution_count": 9,
   "metadata": {},
   "outputs": [],
   "source": [
    "dataset_path = \"G:\\\\CEGNN\\\\materials\\\\drugbank\"\n",
    "dataset = \"drugbank_action_labels.csv\"\n",
    "ids_labels = pd.read_csv(os.path.join(dataset_path, dataset), delimiter=\",\", dtype=np.dtype(str),\n",
    "                             names=[\"ids\", \"labels\"])"
   ]
  },
  {
   "cell_type": "code",
   "execution_count": 19,
   "metadata": {},
   "outputs": [
    {
     "name": "stdout",
     "output_type": "stream",
     "text": [
      "found_cnt size is :2408\n",
      "not found_cnt size is :1580\n"
     ]
    }
   ],
   "source": [
    "emb_path = \"G:\\\\CEGNN\\\\materials\\\\emb\\\\drugbank\"\n",
    "inv_path = \"G:\\\\CEGNN\\\\materials\\\\drugbank\\\\drugbank_index2id_edges.csv\"\n",
    "embedding = \"drugbank_node2vec_200.emb\"\n",
    "nodes = ids_labels[\"ids\"].tolist()\n",
    "labels = ids_labels[\"labels\"].tolist()\n",
    "features = load_embeddings(nodes, os.path.join(emb_path, embedding), 200)"
   ]
  },
  {
   "cell_type": "code",
   "execution_count": null,
   "metadata": {},
   "outputs": [],
   "source": []
  },
  {
   "cell_type": "code",
   "execution_count": null,
   "metadata": {},
   "outputs": [],
   "source": []
  }
 ],
 "metadata": {
  "kernelspec": {
   "display_name": "Python 3",
   "language": "python",
   "name": "python3"
  },
  "language_info": {
   "codemirror_mode": {
    "name": "ipython",
    "version": 3
   },
   "file_extension": ".py",
   "mimetype": "text/x-python",
   "name": "python",
   "nbconvert_exporter": "python",
   "pygments_lexer": "ipython3",
   "version": "3.7.4"
  }
 },
 "nbformat": 4,
 "nbformat_minor": 2
}
